{
 "cells": [
  {
   "cell_type": "markdown",
   "id": "f9044762-f331-4deb-b95e-3cdde111c7d0",
   "metadata": {},
   "source": [
    "# psycopg2_ex1\n",
    "\n",
    "## 概要\n",
    "* psycopg2 を使って PostgreSQL にアクセスする。\n",
    "\n",
    "## 参考\n",
    "* [psycopg2 でよくやる操作まとめ](https://qiita.com/hoto17296/items/0ca1569d6fa54c7c4732)"
   ]
  },
  {
   "cell_type": "code",
   "execution_count": 2,
   "id": "91143a6c-4513-4bd2-99d3-6f3ad648cc77",
   "metadata": {},
   "outputs": [],
   "source": [
    "import psycopg2\n",
    "db_host = \"postgres\"\n",
    "db_port = \"5432\"\n",
    "db_name = \"postgres\"\n",
    "db_username = \"postgres\"\n",
    "db_password = \"postgres\"\n",
    "dsn = f\"postgresql://{db_username}:{db_password}@{db_host}:{db_port}/{db_name}\""
   ]
  },
  {
   "cell_type": "code",
   "execution_count": 4,
   "id": "05402399-b832-499f-8b89-85b79e1d0625",
   "metadata": {},
   "outputs": [],
   "source": [
    "# テーブル作成\n",
    "with psycopg2.connect(dsn) as conn:\n",
    "    with conn.cursor() as cur:\n",
    "        cur.execute(\"\"\"\n",
    "                CREATE TABLE users (\n",
    "                    id SERIAL PRIMARY KEY,\n",
    "                    name VARCHAR(255) NOT NULL\n",
    "                );\n",
    "            \"\"\")"
   ]
  },
  {
   "cell_type": "code",
   "execution_count": 16,
   "id": "fd4277d2-23a1-4fb6-ba10-18aae99afe1c",
   "metadata": {},
   "outputs": [],
   "source": [
    "# インサート文\n",
    "with psycopg2.connect(dsn) as conn:\n",
    "    with conn.cursor() as cur:\n",
    "        cur.execute(\"\"\"\n",
    "                INSERT INTO users (\n",
    "                    name\n",
    "                ) VALUES (\n",
    "                    '東京 太郎'\n",
    "                );\n",
    "            \"\"\")"
   ]
  },
  {
   "cell_type": "code",
   "execution_count": 17,
   "id": "c02e3529-9f0b-41c2-937f-b0a079b0e3a5",
   "metadata": {},
   "outputs": [],
   "source": [
    "# クエリパラメータ\n",
    "with psycopg2.connect(dsn) as conn:\n",
    "    with conn.cursor() as cur:\n",
    "        name = \"東京 花子\"\n",
    "        cur.execute(\"\"\"\n",
    "                INSERT INTO users (\n",
    "                    name\n",
    "                ) VALUES (\n",
    "                    %s\n",
    "                );\n",
    "            \"\"\", [name])"
   ]
  },
  {
   "cell_type": "code",
   "execution_count": 18,
   "id": "14723490-f100-406e-92ae-eba1ae68e9b8",
   "metadata": {},
   "outputs": [
    {
     "name": "stdout",
     "output_type": "stream",
     "text": [
      "[(3, '東京 太郎'), (4, '東京 花子')]\n"
     ]
    }
   ],
   "source": [
    "# 取得した結果を表示\n",
    "with psycopg2.connect(dsn) as conn:\n",
    "    with conn.cursor() as cur:\n",
    "        cur.execute('SELECT * FROM users')\n",
    "        rows = cur.fetchall()\n",
    "print(rows)"
   ]
  },
  {
   "cell_type": "code",
   "execution_count": 14,
   "id": "85e471ed-efb5-4558-8686-ac69f27d8ade",
   "metadata": {},
   "outputs": [],
   "source": [
    "# 全件削除\n",
    "with psycopg2.connect(dsn) as conn:\n",
    "    with conn.cursor() as cur:\n",
    "        cur.execute('DELETE FROM users')"
   ]
  }
 ],
 "metadata": {
  "kernelspec": {
   "display_name": "Python 3 (ipykernel)",
   "language": "python",
   "name": "python3"
  },
  "language_info": {
   "codemirror_mode": {
    "name": "ipython",
    "version": 3
   },
   "file_extension": ".py",
   "mimetype": "text/x-python",
   "name": "python",
   "nbconvert_exporter": "python",
   "pygments_lexer": "ipython3",
   "version": "3.11.9"
  }
 },
 "nbformat": 4,
 "nbformat_minor": 5
}
