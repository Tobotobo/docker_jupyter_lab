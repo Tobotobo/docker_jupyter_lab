{
 "cells": [
  {
   "cell_type": "markdown",
   "id": "4fa4ddb3-33be-461c-85a5-b23cf8a257e4",
   "metadata": {},
   "source": [
    "# README\n",
    "\n",
    "| # | ファイル | 内容 |\n",
    "| --: | :-- | :-- |\n",
    "| 1 | [hello_jupyter](./hello_jupyter.ipynb) | JupyterLab の基本操作について |\n",
    "| 2 | [create_excel_and_download_ex1](./create_excel_and_download_ex1.ipynb) | 実行すると Excel のブックを作成し、作成したブックが自動でダウンロードされるサンプル |\n",
    "| 3 | [psycopg2_ex1](./psycopg2_ex1.ipynb) | psycopg2 を使って PostgreSQL にアクセスするサンプル |"
   ]
  }
 ],
 "metadata": {
  "kernelspec": {
   "display_name": "Python 3 (ipykernel)",
   "language": "python",
   "name": "python3"
  },
  "language_info": {
   "codemirror_mode": {
    "name": "ipython",
    "version": 3
   },
   "file_extension": ".py",
   "mimetype": "text/x-python",
   "name": "python",
   "nbconvert_exporter": "python",
   "pygments_lexer": "ipython3",
   "version": "3.11.9"
  }
 },
 "nbformat": 4,
 "nbformat_minor": 5
}
