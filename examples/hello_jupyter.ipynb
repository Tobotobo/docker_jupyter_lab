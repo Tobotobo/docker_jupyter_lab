{
 "cells": [
  {
   "cell_type": "markdown",
   "id": "d03712ad-ace9-49cc-893f-864f4f7ed716",
   "metadata": {},
   "source": [
    "# hello_jupyter\n",
    "\n",
    "## 基本操作\n",
    "* [Shift] + [Enter] で実行  \n",
    "  ※次のセルを作成 or 移動したくない場合は [Ctrl] + [Enter]\n",
    "* 1文字以上入力して [Tab] でコード補完"
   ]
  },
  {
   "cell_type": "code",
   "execution_count": 1,
   "id": "1b5b71f2-9770-468f-9330-6da2d53deb01",
   "metadata": {},
   "outputs": [
    {
     "name": "stdout",
     "output_type": "stream",
     "text": [
      "Hello Jupyter!\n"
     ]
    }
   ],
   "source": [
    "print(\"Hello Jupyter!\")"
   ]
  }
 ],
 "metadata": {
  "kernelspec": {
   "display_name": "Python 3 (ipykernel)",
   "language": "python",
   "name": "python3"
  },
  "language_info": {
   "codemirror_mode": {
    "name": "ipython",
    "version": 3
   },
   "file_extension": ".py",
   "mimetype": "text/x-python",
   "name": "python",
   "nbconvert_exporter": "python",
   "pygments_lexer": "ipython3",
   "version": "3.11.9"
  }
 },
 "nbformat": 4,
 "nbformat_minor": 5
}
