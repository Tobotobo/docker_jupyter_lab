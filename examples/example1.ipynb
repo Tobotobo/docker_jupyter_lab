{
 "cells": [
  {
   "cell_type": "markdown",
   "id": "04c9cb89-f397-4199-b0ed-79ed48b36a86",
   "metadata": {},
   "source": [
    "# example1\n",
    "実行すると Hello World と書かれた xlsx ファイルがダウンロードされます。"
   ]
  },
  {
   "cell_type": "code",
   "execution_count": 1,
   "id": "b6866ee9-5133-42fe-b2f0-8855463e4386",
   "metadata": {},
   "outputs": [
    {
     "data": {
      "application/javascript": [
       "\n",
       "    var link = document.createElement('a');\n",
       "    link.href = 'data:application/vnd.openxmlformats-officedocument        .spreadsheetml.sheet;base64,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';\n",
       "    link.download = 'data.xlsx';\n",
       "    link.click();\n"
      ],
      "text/plain": [
       "<IPython.core.display.Javascript object>"
      ]
     },
     "execution_count": 1,
     "metadata": {},
     "output_type": "execute_result"
    }
   ],
   "source": [
    "import io\n",
    "import pandas\n",
    "import base64\n",
    "from IPython.display import Javascript\n",
    "\n",
    "buf = io.BytesIO()\n",
    "excel_writer = pandas.ExcelWriter(buf, engine=\"xlsxwriter\")\n",
    "wkbook = excel_writer.book\n",
    "wksheet = wkbook.add_worksheet()\n",
    "\n",
    "wksheet.set_column('A:A', 20)\n",
    "bold = wkbook.add_format({'bold': True})\n",
    "wksheet.write('A1', 'Hello')\n",
    "wksheet.write('A2', 'World', bold)\n",
    "\n",
    "excel_writer.close()\n",
    "xlsx_bytes = buf.getvalue()\n",
    "\n",
    "filename = \"data.xlsx\"\n",
    "b64 = base64.b64encode(xlsx_bytes)\n",
    "payload = b64.decode()\n",
    "Javascript(f'''\n",
    "    var link = document.createElement('a');\n",
    "    link.href = 'data:application/vnd.openxmlformats-officedocument\\\n",
    "        .spreadsheetml.sheet;base64,{payload}';\n",
    "    link.download = '{filename}';\n",
    "    link.click();\n",
    "''')"
   ]
  },
  {
   "cell_type": "code",
   "execution_count": null,
   "id": "fc9a10e3-3c28-4c99-aa28-78049ae36c1a",
   "metadata": {},
   "outputs": [],
   "source": []
  }
 ],
 "metadata": {
  "kernelspec": {
   "display_name": "Python 3 (ipykernel)",
   "language": "python",
   "name": "python3"
  },
  "language_info": {
   "codemirror_mode": {
    "name": "ipython",
    "version": 3
   },
   "file_extension": ".py",
   "mimetype": "text/x-python",
   "name": "python",
   "nbconvert_exporter": "python",
   "pygments_lexer": "ipython3",
   "version": "3.11.9"
  }
 },
 "nbformat": 4,
 "nbformat_minor": 5
}
