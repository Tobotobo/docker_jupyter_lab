{
 "cells": [
  {
   "cell_type": "markdown",
   "id": "04c9cb89-f397-4199-b0ed-79ed48b36a86",
   "metadata": {},
   "source": [
    "# create_excel_and_download_ex1\n",
    "実行すると Hello World と書かれた xlsx ファイルがダウンロードされます。"
   ]
  },
  {
   "cell_type": "code",
   "execution_count": 14,
   "id": "b6866ee9-5133-42fe-b2f0-8855463e4386",
   "metadata": {},
   "outputs": [],
   "source": [
    "import io\n",
    "import pandas\n",
    "import base64\n",
    "from IPython.display import Javascript, clear_output, display\n",
    "\n",
    "buf = io.BytesIO()\n",
    "excel_writer = pandas.ExcelWriter(buf, engine=\"xlsxwriter\")\n",
    "wkbook = excel_writer.book\n",
    "wksheet = wkbook.add_worksheet()\n",
    "\n",
    "wksheet.set_column('A:A', 20)\n",
    "bold = wkbook.add_format({'bold': True})\n",
    "wksheet.write('A1', 'Hello')\n",
    "wksheet.write('A2', 'World', bold)\n",
    "\n",
    "excel_writer.close()\n",
    "xlsx_bytes = buf.getvalue()\n",
    "\n",
    "filename = \"data.xlsx\"\n",
    "b64 = base64.b64encode(xlsx_bytes)\n",
    "payload = b64.decode()\n",
    "display(Javascript(f'''\n",
    "    var link = document.createElement('a');\n",
    "    link.href = 'data:application/vnd.openxmlformats-officedocument\\\n",
    "        .spreadsheetml.sheet;base64,{payload}';\n",
    "    link.download = '{filename}';\n",
    "    link.click();\n",
    "'''))\n",
    "clear_output()"
   ]
  }
 ],
 "metadata": {
  "kernelspec": {
   "display_name": "Python 3 (ipykernel)",
   "language": "python",
   "name": "python3"
  },
  "language_info": {
   "codemirror_mode": {
    "name": "ipython",
    "version": 3
   },
   "file_extension": ".py",
   "mimetype": "text/x-python",
   "name": "python",
   "nbconvert_exporter": "python",
   "pygments_lexer": "ipython3",
   "version": "3.11.9"
  }
 },
 "nbformat": 4,
 "nbformat_minor": 5
}
